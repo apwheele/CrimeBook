{
 "cells": [
  {
   "cell_type": "code",
   "execution_count": null,
   "id": "4547af1c-5632-45da-aa8a-add7506ebb00",
   "metadata": {},
   "outputs": [],
   "source": [
    "# importing functions\n",
    "from IPython.display import Markdown\n",
    "from src import prep, viz\n",
    "\n",
    "# prepping data\n",
    "cary, last_date = prep.prep_data()\n",
    "\n",
    "# intro slide lists the date\n",
    "Markdown(viz.intro_slide(last_date))"
   ]
  },
  {
   "cell_type": "code",
   "execution_count": null,
   "id": "781624d8-2d21-4c04-a1ac-73d14cba1830",
   "metadata": {},
   "outputs": [],
   "source": [
    "# Year to date metrics\n",
    "ytd, ed = prep.ytd_stats(cary)\n",
    "Markdown(viz.ytd_output(ytd,ed))"
   ]
  },
  {
   "cell_type": "code",
   "execution_count": null,
   "id": "1a5cf4a0",
   "metadata": {},
   "outputs": [],
   "source": [
    "# Monthly count metrics\n",
    "month_counts = prep.month_counts(cary)\n",
    "Markdown('## Monthly Crime Charts')\n",
    "viz.month_graphs(month_counts)"
   ]
  },
  {
   "cell_type": "code",
   "execution_count": null,
   "id": "b1b00f7c",
   "metadata": {},
   "outputs": [],
   "source": [
    "# Apartment metrics\n",
    "adata, astr = prep.apt_metrics(cary)\n",
    "\n",
    "Markdown(viz.apt_table(adata,astr))"
   ]
  }
 ],
 "metadata": {
  "kernelspec": {
   "display_name": "Python 3 (ipykernel)",
   "language": "python",
   "name": "python3"
  },
  "language_info": {
   "codemirror_mode": {
    "name": "ipython",
    "version": 3
   },
   "file_extension": ".py",
   "mimetype": "text/x-python",
   "name": "python",
   "nbconvert_exporter": "python",
   "pygments_lexer": "ipython3",
   "version": "3.9.16"
  }
 },
 "nbformat": 4,
 "nbformat_minor": 5
}
